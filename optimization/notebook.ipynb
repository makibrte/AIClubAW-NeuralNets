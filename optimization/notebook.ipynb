{
 "cells": [
  {
   "cell_type": "code",
   "execution_count": 1,
   "metadata": {},
   "outputs": [],
   "source": [
    "import torch"
   ]
  },
  {
   "cell_type": "code",
   "execution_count": 54,
   "metadata": {},
   "outputs": [],
   "source": [
    "w = torch.tensor([[2, 3, 4]], dtype=torch.float32,requires_grad=True)\n",
    "b = torch.tensor([3], dtype=torch.float32,requires_grad=True)\n",
    "x = torch.tensor([[5, 2, 1]], dtype=torch.float32)\n",
    "y = torch.tensor([7], dtype=torch.float32)"
   ]
  },
  {
   "cell_type": "code",
   "execution_count": 3,
   "metadata": {},
   "outputs": [],
   "source": [
    "loss = ((x @ w.T + b) - y)**2"
   ]
  },
  {
   "cell_type": "code",
   "execution_count": 12,
   "metadata": {},
   "outputs": [
    {
     "data": {
      "text/plain": [
       "256.0"
      ]
     },
     "execution_count": 12,
     "metadata": {},
     "output_type": "execute_result"
    }
   ],
   "source": [
    "loss.item()"
   ]
  },
  {
   "cell_type": "code",
   "execution_count": 4,
   "metadata": {},
   "outputs": [],
   "source": [
    "loss.backward()"
   ]
  },
  {
   "cell_type": "code",
   "execution_count": 5,
   "metadata": {},
   "outputs": [
    {
     "data": {
      "text/plain": [
       "tensor([[160.,  64.,  32.]])"
      ]
     },
     "execution_count": 5,
     "metadata": {},
     "output_type": "execute_result"
    }
   ],
   "source": [
    "w.grad"
   ]
  },
  {
   "cell_type": "code",
   "execution_count": 6,
   "metadata": {},
   "outputs": [
    {
     "data": {
      "text/plain": [
       "tensor([32.])"
      ]
     },
     "execution_count": 6,
     "metadata": {},
     "output_type": "execute_result"
    }
   ],
   "source": [
    "b.grad"
   ]
  },
  {
   "cell_type": "code",
   "execution_count": 8,
   "metadata": {},
   "outputs": [],
   "source": [
    "lr =0.1"
   ]
  },
  {
   "cell_type": "code",
   "execution_count": 9,
   "metadata": {},
   "outputs": [],
   "source": [
    "w = w - lr * w.grad\n",
    "b = b - lr * b.grad"
   ]
  },
  {
   "cell_type": "code",
   "execution_count": 10,
   "metadata": {},
   "outputs": [
    {
     "data": {
      "text/plain": [
       "tensor([[-14.0000,  -3.4000,   0.8000]], grad_fn=<SubBackward0>)"
      ]
     },
     "execution_count": 10,
     "metadata": {},
     "output_type": "execute_result"
    }
   ],
   "source": [
    "w"
   ]
  },
  {
   "cell_type": "code",
   "execution_count": 11,
   "metadata": {},
   "outputs": [
    {
     "data": {
      "text/plain": [
       "tensor([-0.2000], grad_fn=<SubBackward0>)"
      ]
     },
     "execution_count": 11,
     "metadata": {},
     "output_type": "execute_result"
    }
   ],
   "source": [
    "b"
   ]
  },
  {
   "cell_type": "code",
   "execution_count": 13,
   "metadata": {},
   "outputs": [],
   "source": [
    "loss = ((x @ w.T + b) - y)**2"
   ]
  },
  {
   "cell_type": "code",
   "execution_count": 14,
   "metadata": {},
   "outputs": [
    {
     "data": {
      "text/plain": [
       "6922.2392578125"
      ]
     },
     "execution_count": 14,
     "metadata": {},
     "output_type": "execute_result"
    }
   ],
   "source": [
    "loss.item()"
   ]
  },
  {
   "cell_type": "code",
   "execution_count": 15,
   "metadata": {},
   "outputs": [],
   "source": [
    "w.grad = None\n",
    "b.grad = None"
   ]
  },
  {
   "cell_type": "code",
   "execution_count": 18,
   "metadata": {},
   "outputs": [
    {
     "data": {
      "text/plain": [
       "tensor([[-14.0000,  -3.4000,   0.8000]], grad_fn=<SubBackward0>)"
      ]
     },
     "execution_count": 18,
     "metadata": {},
     "output_type": "execute_result"
    }
   ],
   "source": []
  },
  {
   "cell_type": "code",
   "execution_count": 55,
   "metadata": {},
   "outputs": [],
   "source": [
    "import numpy as np\n",
    "losses = []\n",
    "grads = np.zeros((10,3))\n",
    "for epoch in range(10):\n",
    "    loss = ((x @ w.T + b) - y)**2\n",
    "    loss.backward()\n",
    "    losses.append(loss.item())\n",
    "    with torch.no_grad():\n",
    "        w -= 0.001 * w.grad\n",
    "        b -= 0.001 * b.grad\n",
    "    grads[epoch] = w.grad.numpy()\n",
    "    w.grad.zero_()\n",
    "    b.grad.zero_()\n",
    "    "
   ]
  },
  {
   "cell_type": "code",
   "execution_count": 56,
   "metadata": {},
   "outputs": [],
   "source": [
    "import matplotlib.pyplot as plt"
   ]
  },
  {
   "cell_type": "code",
   "execution_count": 57,
   "metadata": {},
   "outputs": [
    {
     "data": {
      "text/plain": [
       "[<matplotlib.lines.Line2D at 0x1671d21b0>]"
      ]
     },
     "execution_count": 57,
     "metadata": {},
     "output_type": "execute_result"
    },
    {
     "data": {
      "image/png": "[encoded data removed]",
      "text/plain": [
       "<Figure size 640x480 with 1 Axes>"
      ]
     },
     "metadata": {},
     "output_type": "display_data"
    }
   ],
   "source": [
    "plt.plot(losses)"
   ]
  },
  {
   "cell_type": "code",
   "execution_count": 47,
   "metadata": {},
   "outputs": [
    {
     "data": {
      "image/png": "[encoded data removed]",
      "text/plain": [
       "<Figure size 640x480 with 1 Axes>"
      ]
     },
     "metadata": {},
     "output_type": "display_data"
    }
   ],
   "source": [
    "plt.plot(grads[:,0], label='W1')\n",
    "plt.plot(grads[:,1], label='W2')\n",
    "plt.plot(grads[:,2], label='W3')\n",
    "plt.legend()\n",
    "plt.show()"
   ]
  },
  {
   "cell_type": "code",
   "execution_count": 51,
   "metadata": {},
   "outputs": [],
   "source": [
    "w = torch.tensor([[0.9901, 0.979, 0.981]], dtype=torch.float32,requires_grad=True)\n",
    "b = torch.tensor([0.978], dtype=torch.float32,requires_grad=True)"
   ]
  },
  {
   "cell_type": "code",
   "execution_count": 52,
   "metadata": {},
   "outputs": [],
   "source": [
    "import numpy as np\n",
    "losses = []\n",
    "grads = np.zeros((10,3))\n",
    "for epoch in range(10):\n",
    "    loss = ((x @ w.T + b) - y)**2\n",
    "    loss.backward()\n",
    "    losses.append(loss.item())\n",
    "    with torch.no_grad():\n",
    "        w -= 0.001 * w.grad\n",
    "        b -= 0.001 * b.grad\n",
    "    grads[epoch] = w.grad.numpy()\n",
    "    w.grad.zero_()\n",
    "    b.grad.zero_()\n"
   ]
  },
  {
   "cell_type": "code",
   "execution_count": 53,
   "metadata": {},
   "outputs": [
    {
     "data": {
      "text/plain": [
       "[<matplotlib.lines.Line2D at 0x1671ba1b0>]"
      ]
     },
     "execution_count": 53,
     "metadata": {},
     "output_type": "execute_result"
    },
    {
     "data": {
      "image/png": "[encoded data removed]",
      "text/plain": [
       "<Figure size 640x480 with 1 Axes>"
      ]
     },
     "metadata": {},
     "output_type": "display_data"
    }
   ],
   "source": [
    "plt.plot(losses)"
   ]
  },
  {
   "cell_type": "code",
   "execution_count": 289,
   "metadata": {},
   "outputs": [],
   "source": [
    "w1 = torch.rand((5,3), dtype=torch.float32,requires_grad=True)\n",
    "w2 = torch.rand((1,5), dtype=torch.float32,requires_grad=True)\n",
    "b1 = torch.zeros(5, dtype=torch.float32, requires_grad=True)\n",
    "b2 = torch.zeros(1, dtype=torch.float32, requires_grad=True)\n",
    "x = torch.rand((5,3))\n",
    "y = torch.rand((5,1))"
   ]
  },
  {
   "cell_type": "code",
   "execution_count": 290,
   "metadata": {},
   "outputs": [],
   "source": [
    "class SGD():\n",
    "    def __init__(self, params, momentum, damp, learning_rate):\n",
    "        self.params = params\n",
    "        self.velocities = None\n",
    "        self.lr = learning_rate\n",
    "        self.momentum = momentum\n",
    "        self.damp = damp\n",
    "    def step(self):\n",
    "        with torch.no_grad():\n",
    "            if self.velocities is None:\n",
    "                self.velocities = [param.grad for param in self.params]\n",
    "            for n, param in enumerate(self.params):\n",
    "                forward_velocity = self.momentum * self.velocities[n] + (1-self.damp)*param.grad\n",
    "                self.params[n]-= self.lr * forward_velocity\n",
    "                self.velocities[n] = forward_velocity\n",
    "            \n",
    "            \n",
    "    def zero_grad(self):\n",
    "        for n, param in enumerate(self.params):\n",
    "            self.params[n].grad.zero_()"
   ]
  },
  {
   "cell_type": "code",
   "execution_count": 291,
   "metadata": {},
   "outputs": [],
   "source": [
    "optimizer = SGD([w1,w2,b1,b2],0.90, 0.90, 0.01)"
   ]
  },
  {
   "cell_type": "code",
   "execution_count": 292,
   "metadata": {},
   "outputs": [
    {
     "name": "stdout",
     "output_type": "stream",
     "text": [
      "Epoch 0, Loss: 4.3635\n",
      "Epoch 100, Loss: 0.0783\n",
      "Epoch 200, Loss: 0.0567\n",
      "Epoch 300, Loss: 0.0495\n",
      "Epoch 400, Loss: 0.0459\n",
      "Epoch 500, Loss: 0.0434\n",
      "Epoch 600, Loss: 0.0413\n",
      "Epoch 700, Loss: 0.0394\n",
      "Epoch 800, Loss: 0.0377\n",
      "Epoch 900, Loss: 0.0361\n",
      "Predictions:\n",
      "tensor([[0.8645],\n",
      "        [0.5113],\n",
      "        [0.3890],\n",
      "        [0.4623],\n",
      "        [0.6650]])\n",
      "Actual:\n",
      "tensor([[0.9226],\n",
      "        [0.1906],\n",
      "        [0.3356],\n",
      "        [0.6980],\n",
      "        [0.7586]])\n"
     ]
    }
   ],
   "source": [
    "losses = []\n",
    "for epoch in range(1000):  # Increased epochs for better convergence\n",
    "    # Forward pass\n",
    "    \n",
    "    hidden = torch.nn.functional.relu(x @ w1.T + b1)\n",
    "    output = hidden @ w2.T + b2\n",
    "    loss = torch.mean((y - output)**2)\n",
    "\n",
    "    # Backward pass\n",
    "    \n",
    "    loss.backward()\n",
    "    optimizer.step()\n",
    "\n",
    "    losses.append(loss.item())\n",
    "\n",
    "    if epoch % 100 == 0:\n",
    "        print(f\"Epoch {epoch}, Loss: {loss.item():.4f}\")\n",
    "    optimizer.zero_grad()\n",
    "# Test the model\n",
    "with torch.no_grad():\n",
    "    hidden = torch.nn.functional.relu(x @ w1.T + b1)\n",
    "    output = hidden @ w2.T + b2\n",
    "    print(\"Predictions:\")\n",
    "    print(output)\n",
    "    print(\"Actual:\")\n",
    "    print(y)"
   ]
  },
  {
   "cell_type": "code",
   "execution_count": 305,
   "metadata": {},
   "outputs": [],
   "source": [
    "w1 = torch.rand((5,3), dtype=torch.float32,requires_grad=True)\n",
    "w2 = torch.rand((1,5), dtype=torch.float32,requires_grad=True)\n",
    "b1 = torch.zeros(5, dtype=torch.float32, requires_grad=True)\n",
    "b2 = torch.zeros(1, dtype=torch.float32, requires_grad=True)"
   ]
  },
  {
   "cell_type": "code",
   "execution_count": 306,
   "metadata": {},
   "outputs": [],
   "source": [
    "optimizer = SGD([w1,w2,b1,b2],0.90, 0.90, 0.01)"
   ]
  },
  {
   "cell_type": "code",
   "execution_count": 307,
   "metadata": {},
   "outputs": [
    {
     "name": "stdout",
     "output_type": "stream",
     "text": [
      "Epoch 0, Loss: 0.8954\n",
      "Epoch 100, Loss: 0.0472\n",
      "Epoch 200, Loss: 0.0403\n",
      "Epoch 300, Loss: 0.0354\n",
      "Epoch 400, Loss: 0.0320\n",
      "Epoch 500, Loss: 0.0294\n",
      "Epoch 600, Loss: 0.0269\n",
      "Epoch 700, Loss: 0.0247\n",
      "Epoch 800, Loss: 0.0227\n",
      "Epoch 900, Loss: 0.0209\n",
      "Predictions:\n",
      "tensor([[0.8870],\n",
      "        [0.3936],\n",
      "        [0.3398],\n",
      "        [0.4718],\n",
      "        [0.8046]])\n",
      "Actual:\n",
      "tensor([[0.9226],\n",
      "        [0.1906],\n",
      "        [0.3356],\n",
      "        [0.6980],\n",
      "        [0.7586]])\n"
     ]
    }
   ],
   "source": [
    "losses = []\n",
    "for epoch in range(1000):  # Increased epochs for better convergence\n",
    "    # Forward pass\n",
    "    running_loss = 0\n",
    "    for n, X in enumerate(x):\n",
    "        hidden = torch.nn.functional.relu(X @ w1.T + b1)\n",
    "        output = hidden @ w2.T + b2\n",
    "        loss = torch.mean((y[n] - output)**2)\n",
    "\n",
    "        # Backward pass\n",
    "        running_loss += loss.item()\n",
    "        loss.backward()\n",
    "        optimizer.step()\n",
    "        optimizer.zero_grad()\n",
    "\n",
    "    losses.append(running_loss/x.shape[0])\n",
    "\n",
    "    if epoch % 100 == 0:\n",
    "        print(f\"Epoch {epoch}, Loss: {running_loss/x.shape[0]:.4f}\")\n",
    "    \n",
    "# Test the model\n",
    "with torch.no_grad():\n",
    "    hidden = torch.nn.functional.relu(x @ w1.T + b1)\n",
    "    output = hidden @ w2.T + b2\n",
    "    print(\"Predictions:\")\n",
    "    print(output)\n",
    "    print(\"Actual:\")\n",
    "    print(y)"
   ]
  },
  {
   "cell_type": "code",
   "execution_count": 263,
   "metadata": {},
   "outputs": [
    {
     "data": {
      "text/plain": [
       "tensor([[-384.8205, -400.0002, -256.8898],\n",
       "        [-495.4535, -515.1544, -329.7933],\n",
       "        [ -13.3149,  -13.0495,   -8.3398],\n",
       "        [-423.4078, -439.9409, -281.5709],\n",
       "        [-153.3870, -158.7641, -101.9098],\n",
       "        [-527.8328, -549.2864, -351.7047],\n",
       "        [-189.8145, -198.0156, -126.5763],\n",
       "        [-182.8955, -189.2435, -121.3567],\n",
       "        [-111.2035, -115.4356,  -74.0019],\n",
       "        [ -25.6607,  -25.9173,  -16.3964],\n",
       "        [-493.8058, -513.6901, -328.8123],\n",
       "        [-231.6112, -240.6143, -154.2263],\n",
       "        [-602.4781, -627.0580, -401.3484],\n",
       "        [-386.2272, -401.0171, -257.3687],\n",
       "        [-100.2853, -104.2068,  -66.6247]], requires_grad=True)"
      ]
     },
     "execution_count": 263,
     "metadata": {},
     "output_type": "execute_result"
    }
   ],
   "source": [
    "w1"
   ]
  },
  {
   "cell_type": "code",
   "execution_count": 240,
   "metadata": {},
   "outputs": [
    {
     "data": {
      "text/plain": [
       "tensor([[7.],\n",
       "        [3.],\n",
       "        [2.],\n",
       "        [8.]])"
      ]
     },
     "execution_count": 240,
     "metadata": {},
     "output_type": "execute_result"
    }
   ],
   "source": [
    "y"
   ]
  },
  {
   "cell_type": "code",
   "execution_count": 241,
   "metadata": {},
   "outputs": [],
   "source": [
    "output = torch.nn.functional.relu(x @ w1.T + b1) @ w2 + b2"
   ]
  },
  {
   "cell_type": "code",
   "execution_count": 242,
   "metadata": {},
   "outputs": [
    {
     "data": {
      "text/plain": [
       "tensor([[4.8168],\n",
       "        [4.8168],\n",
       "        [4.8168],\n",
       "        [4.8168]], grad_fn=<AddBackward0>)"
      ]
     },
     "execution_count": 242,
     "metadata": {},
     "output_type": "execute_result"
    }
   ],
   "source": [
    "output"
   ]
  },
  {
   "cell_type": "code",
   "execution_count": 264,
   "metadata": {},
   "outputs": [
    {
     "data": {
      "image/png": "[encoded data removed]",
      "text/plain": [
       "<Figure size 640x480 with 1 Axes>"
      ]
     },
     "metadata": {},
     "output_type": "display_data"
    }
   ],
   "source": [
    "plt.scatter(x.numpy()[:,0], y)\n",
    "plt.scatter(x.numpy()[:,0], output.detach().numpy())\n",
    "plt.show()"
   ]
  },
  {
   "cell_type": "code",
   "execution_count": null,
   "metadata": {},
   "outputs": [],
   "source": []
  }
 ],
 "metadata": {
  "kernelspec": {
   "display_name": "ford",
   "language": "python",
   "name": "python3"
  },
  "language_info": {
   "codemirror_mode": {
    "name": "ipython",
    "version": 3
   },
   "file_extension": ".py",
   "mimetype": "text/x-python",
   "name": "python",
   "nbconvert_exporter": "python",
   "pygments_lexer": "ipython3",
   "version": "3.12.2"
  }
 },
 "nbformat": 4,
 "nbformat_minor": 2
}
